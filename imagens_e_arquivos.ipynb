{
 "cells": [
  {
   "cell_type": "markdown",
   "id": "13a4ae71",
   "metadata": {},
   "source": [
    "# 1. Trabalhando com Imagens\n",
    "\n",
    "Para trabalhar com arquivos de imagem, você\n",
    "pode utilizar a biblioteca Python Imaging Library (PIL):"
   ]
  },
  {
   "cell_type": "code",
   "execution_count": 3,
   "id": "28dc3470",
   "metadata": {},
   "outputs": [
    {
     "name": "stdout",
     "output_type": "stream",
     "text": [
      "Largura: 3264\n",
      "Altura: 2448\n",
      "L x A: (3264, 2448)\n"
     ]
    }
   ],
   "source": [
    "from PIL import Image\n",
    "\n",
    "def main():\n",
    "    \n",
    "    # Abre arquivo de imagem com nome indicado\n",
    "    # (teste abrir um arquivo não existente\n",
    "    # para ver a exceção)\n",
    "    img = Image.open('dataset1/img01.jpg')\n",
    "    \n",
    "    # Imprime dados da classe Image da PIL\n",
    "    print(f'Largura: {img.width}')\n",
    "    print(f'Altura: {img.height}')\n",
    "    print(f'L x A: {img.size}')\n",
    "    \n",
    "    # Reduz a imagem para um novo tamanho:\n",
    "    # as dimensões precisam ser inteiras\n",
    "    # (observe que estamos dividindo o tam.\n",
    "    # original por 5, mantendo assim a proporção)\n",
    "    novo_tamanho = (int(img.size[0]/5), int(img.size[1]/5))\n",
    "    img.resize(size=novo_tamanho)\n",
    "    \n",
    "    # Salva a imagem (verifique o novo tamanho)\n",
    "    img.save('teste.jpg')\n",
    "    \n",
    "if __name__ == '__main__':\n",
    "    main()"
   ]
  },
  {
   "cell_type": "markdown",
   "id": "dfbff7da",
   "metadata": {},
   "source": [
    "# 2. Trabalhando com Arquivos\n",
    "\n",
    "Para abrir arquivos de texto em Python,\n",
    "você deve utilizar a função `open`.\n",
    "\n",
    "Após isto, você tem 2 opções para processar\n",
    "as linhas do arquivo:"
   ]
  },
  {
   "cell_type": "code",
   "execution_count": 3,
   "id": "67729dda",
   "metadata": {},
   "outputs": [
    {
     "name": "stdout",
     "output_type": "stream",
     "text": [
      "Opção 1:\n",
      "['primeira linha do arquivo\\n', 'segunda linha do arquivo\\n', '3a. linha\\n', '4a. linha\\n', 'quinta e ultima linha']\n"
     ]
    }
   ],
   "source": [
    "# Abre um arquivo de texto para leitura\n",
    "# (o with funciona de forma similar a um\n",
    "# bloco try-except)\n",
    "with open('teste.txt') as arq:\n",
    "    \n",
    "    #1. obter uma lista contendo cada linha do arquivo\n",
    "    print('Opção 1:')\n",
    "    print(arq.readlines())\n",
    "    \n",
    "# OBSERVE QUE AS LINHAS DO ARQUIVO POSSUEM UM '\\n' AO SEU FIM\n",
    "# (utilize rstrip para removê-los)"
   ]
  },
  {
   "cell_type": "code",
   "execution_count": 11,
   "id": "698b8bfc",
   "metadata": {},
   "outputs": [
    {
     "name": "stdout",
     "output_type": "stream",
     "text": [
      "Opção 2:\n",
      "primeira linha do arquivo\n",
      "\n",
      "segunda linha do arquivo\n",
      "\n",
      "3a. linha\n",
      "\n",
      "4a. linha\n",
      "\n",
      "quinta e ultima linha\n"
     ]
    }
   ],
   "source": [
    "# Abre um arquivo de texto para leitura\n",
    "# (o with funciona de forma similar a um\n",
    "# bloco try-except)\n",
    "with open('teste.txt') as arq:\n",
    "    \n",
    "    #2. utilizar um for para percorrer cada linha do arquivo diretamente\n",
    "    print('Opção 2:')\n",
    "    for linha in arq:\n",
    "        print(linha)\n",
    "        \n",
    "# OBSERVE QUE O '\\n' IMPRESSO AO FINAL DE CADA LINHA\n",
    "# (utilize rstrip para removê-los)"
   ]
  },
  {
   "cell_type": "code",
   "execution_count": null,
   "id": "d0337e13",
   "metadata": {},
   "outputs": [],
   "source": []
  }
 ],
 "metadata": {
  "kernelspec": {
   "display_name": "Python 3 (ipykernel)",
   "language": "python",
   "name": "python3"
  },
  "language_info": {
   "codemirror_mode": {
    "name": "ipython",
    "version": 3
   },
   "file_extension": ".py",
   "mimetype": "text/x-python",
   "name": "python",
   "nbconvert_exporter": "python",
   "pygments_lexer": "ipython3",
   "version": "3.10.4"
  }
 },
 "nbformat": 4,
 "nbformat_minor": 5
}
