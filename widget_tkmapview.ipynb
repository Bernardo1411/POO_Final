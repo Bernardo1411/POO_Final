{
 "cells": [
  {
   "cell_type": "markdown",
   "id": "9d8269c5",
   "metadata": {},
   "source": [
    "# Widget TkinterMapView\n",
    "\n",
    "Este documento apresenta como trabalhar com o widget [TkinterMapView](https://github.com/TomSchimansky/TkinterMapView), utilizado\n",
    "para exibir mapas e informações a eles associadas."
   ]
  },
  {
   "cell_type": "markdown",
   "id": "3d3c76d1",
   "metadata": {},
   "source": [
    "## 1. Instalação\n",
    "\n",
    "Para trabalhar com o widget que exibe mapas com a interface gráfica Tkinter, é necessário\n",
    "instalar a biblioteca TkinterMapView.\n",
    "\n",
    "Para isto, você precisa abrir um terminal powershell no Windows (Iniciar -> Anaconda -> Windows Powershell) e inserir o seguinte comando:\n",
    "\n",
    "`pip3 install tkintermapview`\n",
    "\n",
    "Após dar enter, espere a instalação concluir. Após isto, você poderá importar a biblioteca\n",
    "para os seus programas."
   ]
  },
  {
   "cell_type": "markdown",
   "id": "47b417fb",
   "metadata": {},
   "source": [
    "## 2. Importando a Biblioteca"
   ]
  },
  {
   "cell_type": "code",
   "execution_count": null,
   "id": "e548fc5c",
   "metadata": {},
   "outputs": [],
   "source": [
    "import tkinter as tk\n",
    "import tkintermapview as tkmv"
   ]
  },
  {
   "cell_type": "markdown",
   "id": "247960b9",
   "metadata": {},
   "source": [
    "## 3. Usando o Widget"
   ]
  },
  {
   "cell_type": "markdown",
   "id": "cc352688",
   "metadata": {},
   "source": [
    "O código abaixo cria um Widget para o mapa.\n",
    "Observe que o mapa criado está centralizado na cidade de Berlim por padrão"
   ]
  },
  {
   "cell_type": "code",
   "execution_count": null,
   "id": "13f30caf",
   "metadata": {},
   "outputs": [],
   "source": [
    "import tkinter as tk\n",
    "import tkintermapview as tkmv\n",
    "\n",
    "def main():\n",
    "    \n",
    "    root = tk.Tk()\n",
    "    root.title('Mapa TkinterMapView')\n",
    "    \n",
    "    # cria mapa com largura, altura e raio do canto do mapa\n",
    "    map = tkmv.TkinterMapView(root, width=400, height=400, corner_radius=0)\n",
    "    \n",
    "    map.pack()\n",
    "    \n",
    "    root.mainloop()\n",
    "    \n",
    "if __name__ == '__main__':\n",
    "    main()"
   ]
  },
  {
   "cell_type": "markdown",
   "id": "588e738b",
   "metadata": {},
   "source": [
    "### 3.1 Mudando o Servidor dos Mapas\n",
    "\n",
    "Por padrão, o servidor utilizado para renderizar os mapas são do [OpenStreetMaps](),\n",
    "mas você pode mudar para o servidor do Google Maps, como mostrado a seguir."
   ]
  },
  {
   "cell_type": "code",
   "execution_count": null,
   "id": "5bfb1feb",
   "metadata": {},
   "outputs": [],
   "source": [
    "import tkinter as tk\n",
    "import tkintermapview as tkmv\n",
    "\n",
    "def main():\n",
    "    \n",
    "    root = tk.Tk()\n",
    "    root.title('Mapa TkinterMapView')\n",
    "    \n",
    "    map = tkmv.TkinterMapView(root, width=400, height=400, corner_radius=0)\n",
    "    # altera servidor do mapa para Google Maps\n",
    "    map.set_tile_server(\"https://mt0.google.com/vt/lyrs=m&hl=en&x={x}&y={y}&z={z}&s=Ga\", max_zoom=22)\n",
    "    \n",
    "    map.pack()\n",
    "    \n",
    "    root.mainloop()\n",
    "    \n",
    "if __name__ == '__main__':\n",
    "    main()"
   ]
  },
  {
   "cell_type": "markdown",
   "id": "b0f783da",
   "metadata": {},
   "source": [
    "### 3.2 Alterando o Centro e Zoom do Mapa\n",
    "\n",
    "O código a seguir altera onde o mapa está centralizado e o seu nível de zoom."
   ]
  },
  {
   "cell_type": "code",
   "execution_count": null,
   "id": "04094a9f",
   "metadata": {},
   "outputs": [],
   "source": [
    "import tkinter as tk\n",
    "import tkintermapview as tkmv\n",
    "\n",
    "def main():\n",
    "    \n",
    "    root = tk.Tk()\n",
    "    root.title('Mapa TkinterMapView')\n",
    "    \n",
    "    map = tkmv.TkinterMapView(root, width=400, height=400, corner_radius=0)\n",
    "    map.set_tile_server(\"https://mt0.google.com/vt/lyrs=m&hl=en&x={x}&y={y}&z={z}&s=Ga\", max_zoom=22)\n",
    "    map.set_position(-5.843428, -35.199286) # centraliza mapa na latitude e longitude da ECT/UFRN\n",
    "    map.set_zoom(18) # zoom = 0 mais distante, zoom = 19 mais próximo\n",
    "    \n",
    "    map.pack()\n",
    "    \n",
    "    root.mainloop()\n",
    "    \n",
    "if __name__ == '__main__':\n",
    "    main()"
   ]
  },
  {
   "cell_type": "markdown",
   "id": "d9ec473d",
   "metadata": {},
   "source": [
    "Também é possível atribuir um endereço em que o mapa deva ser centralizado, como mostrado abaixo."
   ]
  },
  {
   "cell_type": "code",
   "execution_count": null,
   "id": "b43bfe88",
   "metadata": {},
   "outputs": [],
   "source": [
    "import tkinter as tk\n",
    "import tkintermapview as tkmv\n",
    "\n",
    "def main():\n",
    "    \n",
    "    root = tk.Tk()\n",
    "    root.title('Mapa TkinterMapView')\n",
    "    \n",
    "    map = tkmv.TkinterMapView(root, width=400, height=400, corner_radius=0)\n",
    "    map.set_tile_server(\"https://mt0.google.com/vt/lyrs=m&hl=en&x={x}&y={y}&z={z}&s=Ga\", max_zoom=22)\n",
    "    map.set_address('ECT UFRN') # centraliza mapa na ECT/UFRN\n",
    "    map.set_zoom(19)\n",
    "    \n",
    "    map.pack()\n",
    "    \n",
    "    root.mainloop()\n",
    "    \n",
    "if __name__ == '__main__':\n",
    "    main()"
   ]
  },
  {
   "cell_type": "markdown",
   "id": "dccc1e6f",
   "metadata": {},
   "source": [
    "### 3.3 Adicionando Marcadores em Coordenadas Específicas\n",
    "\n",
    "O widget também permite que sejam adicionados marcadores em locais específicos,\n",
    "como a seguir."
   ]
  },
  {
   "cell_type": "code",
   "execution_count": null,
   "id": "3bf377f9",
   "metadata": {},
   "outputs": [],
   "source": [
    "import tkinter as tk\n",
    "import tkintermapview as tkmv\n",
    "\n",
    "def main():\n",
    "    \n",
    "    root = tk.Tk()\n",
    "    root.title('Mapa TkinterMapView')\n",
    "    \n",
    "    map = tkmv.TkinterMapView(root, width=400, height=400, corner_radius=0)\n",
    "    map.set_tile_server(\"https://mt0.google.com/vt/lyrs=m&hl=en&x={x}&y={y}&z={z}&s=Ga\", max_zoom=22)\n",
    "    map.set_address('ECT UFRN') # centraliza mapa na ECT/UFRN\n",
    "    map.set_zoom(19)\n",
    "    \n",
    "    # Adiciona marcador em uma latitude/longitude, com texto informado\n",
    "    marcador = map.set_marker(-5.843096, -35.198582, text=\"Estacionamento ECT/UFRN\")\n",
    "    # o objeto marcador pode ser alterado posteriormente\n",
    "    # (set_position, set_text, change_icon)\n",
    "    \n",
    "    map.pack()\n",
    "    \n",
    "    root.mainloop()\n",
    "    \n",
    "if __name__ == '__main__':\n",
    "    main()"
   ]
  },
  {
   "cell_type": "markdown",
   "id": "bfdff316",
   "metadata": {},
   "source": [
    "É possível associar uma imagem a um marcador, como mostrado a seguir."
   ]
  },
  {
   "cell_type": "code",
   "execution_count": null,
   "id": "7c2ea5ae",
   "metadata": {},
   "outputs": [],
   "source": [
    "import tkinter as tk\n",
    "import tkintermapview as tkmv\n",
    "from PIL import Image, ImageTk\n",
    "\n",
    "def main():\n",
    "    \n",
    "    root = tk.Tk()\n",
    "    root.title('Mapa TkinterMapView')\n",
    "    \n",
    "    map = tkmv.TkinterMapView(root, width=400, height=400, corner_radius=0)\n",
    "    map.set_tile_server(\"https://mt0.google.com/vt/lyrs=m&hl=en&x={x}&y={y}&z={z}&s=Ga\", max_zoom=22)\n",
    "    map.set_address('ECT UFRN') # centraliza mapa na ECT/UFRN\n",
    "    map.set_zoom(19)\n",
    "    \n",
    "    #1. abre uma imagem do arquivo\n",
    "    img_anf_c = Image.open('ect_anf_c.jpg')\n",
    "    #2. transforma imagem aberta para classe de imagem que o Tk conhece\n",
    "    img_anf_c = ImageTk.PhotoImage(img_anf_c.resize(size=(204, 153)))\n",
    "    #3. adiciona imagem ao mapa\n",
    "    marcador = map.set_marker(-5.843096, -35.198582, text=\"Anfiteatro C, ECT/UFRN\", image=img_anf_c)\n",
    "    \n",
    "    map.pack()\n",
    "    \n",
    "    root.mainloop()\n",
    "    \n",
    "if __name__ == '__main__':\n",
    "    main()"
   ]
  },
  {
   "cell_type": "markdown",
   "id": "444e3f16",
   "metadata": {},
   "source": [
    "### 3.4 Detectando Cliques do Mouse\n",
    "\n",
    "É possível programar métodos a serem chamados quando\n",
    "cliques do mouse (esquerdo ou direito) forem detectados\n",
    "no mapa.\n",
    "\n",
    "As coordenadas (latitude e longitude) podem\n",
    "ser passadas para a função a ser chamada quando\n",
    "há o clique.\n",
    "\n",
    "Isto é mostrado a seguir."
   ]
  },
  {
   "cell_type": "code",
   "execution_count": null,
   "id": "4090c4f6",
   "metadata": {},
   "outputs": [],
   "source": [
    "import tkinter as tk\n",
    "import tkintermapview as tkmv\n",
    "\n",
    "map = None\n",
    "\n",
    "# Esta função está aqui apenas para demonstração:\n",
    "# não utilize variáveis globais em programas de POO\n",
    "def evento_clique_esquerdo(coords):\n",
    "    global map\n",
    "\n",
    "    map.set_marker(coords[0], coords[1], text=f'({coords[0]:.3f}, {coords[1]:.3f})')\n",
    "\n",
    "def main():\n",
    "    \n",
    "    root = tk.Tk()\n",
    "    root.title('Mapa TkinterMapView')\n",
    "    \n",
    "    global map\n",
    "    map = tkmv.TkinterMapView(root, width=400, height=400, corner_radius=0)\n",
    "    map.set_tile_server(\"https://mt0.google.com/vt/lyrs=m&hl=en&x={x}&y={y}&z={z}&s=Ga\", max_zoom=22)\n",
    "    map.set_address('ECT UFRN') # centraliza mapa na ECT/UFRN\n",
    "    map.set_zoom(15)\n",
    "    \n",
    "    # adiciona evento de clique esquerdo ao widget\n",
    "    map.add_left_click_map_command(evento_clique_esquerdo)\n",
    "    \n",
    "    map.pack()\n",
    "    \n",
    "    root.mainloop()\n",
    "    \n",
    "if __name__ == '__main__':\n",
    "    main()"
   ]
  },
  {
   "cell_type": "markdown",
   "id": "a109b625",
   "metadata": {},
   "source": [
    "Também é possível atribuir um método a ser chamado quando um clique em um determinado marcador for detectado.\n",
    "Observe como fazer isto no código a seguir."
   ]
  },
  {
   "cell_type": "code",
   "execution_count": null,
   "id": "a78b2064",
   "metadata": {},
   "outputs": [],
   "source": [
    "import tkinter as tk\n",
    "import tkintermapview as tkmv\n",
    "\n",
    "def clique(marcador):\n",
    "    print('clique no marcador')\n",
    "    # marcador é o objeto marcador da biblioteca\n",
    "    # tkintermapview onde ocorreu o click\n",
    "    print(marcador)\n",
    "\n",
    "def main():\n",
    "    \n",
    "    root = tk.Tk()\n",
    "    root.title('Mapa TkinterMapView')\n",
    "    \n",
    "    map = tkmv.TkinterMapView(root, width=400, height=400, corner_radius=0)\n",
    "    map.set_tile_server(\"https://mt0.google.com/vt/lyrs=m&hl=en&x={x}&y={y}&z={z}&s=Ga\", max_zoom=22)\n",
    "    map.set_address('ECT UFRN') # centraliza mapa na ECT/UFRN\n",
    "    map.set_zoom(15)\n",
    "    \n",
    "    # command: atribui método a ser chamado quando há um clique no marcador\n",
    "    marcador = map.set_marker(-5.843428, -35.199286, text='ECT/UFRN', command=clique)\n",
    "    \n",
    "    map.pack()\n",
    "    \n",
    "    root.mainloop()\n",
    "    \n",
    "if __name__ == '__main__':\n",
    "    main()"
   ]
  },
  {
   "cell_type": "markdown",
   "id": "75c2c917",
   "metadata": {},
   "source": [
    "## 4. Métodos Utilitários\n",
    "\n",
    "A biblioteca que contém o widget TkinterMapView também possui alguns métodos utilitários, como mostrados a seguir."
   ]
  },
  {
   "cell_type": "code",
   "execution_count": null,
   "id": "d38902ac",
   "metadata": {},
   "outputs": [],
   "source": [
    "import tkintermapview as tkmv\n",
    "\n",
    "def main():\n",
    "    \n",
    "    coords = (-5.843096, -35.198582)\n",
    "\n",
    "    pais = tkmv.convert_coordinates_to_country(coords[0], coords[1])\n",
    "    cidade = tkmv.convert_coordinates_to_city(coords[0], coords[1])\n",
    "\n",
    "    print(f'País: {pais}, cidade: {cidade}')\n",
    "    \n",
    "if __name__ == '__main__':\n",
    "    main()"
   ]
  },
  {
   "cell_type": "markdown",
   "id": "cedf7871",
   "metadata": {},
   "source": [
    "## 5. Exibindo Imagens em Interfaces Gráficas TK\n",
    "\n",
    "O código abaixo mostra como exibir imagens em interfaces gráficas TK."
   ]
  },
  {
   "cell_type": "code",
   "execution_count": null,
   "id": "43823517",
   "metadata": {},
   "outputs": [],
   "source": [
    "import tkinter as tk\n",
    "from PIL import Image, ImageTk\n",
    "\n",
    "def main():\n",
    "\n",
    "    root = tk.Tk()\n",
    "\n",
    "    #1. abre uma imagem do arquivo\n",
    "    img_anf_c = Image.open('ect_anf_c.jpg')\n",
    "    #2. transforma imagem aberta para classe de imagem que o Tk conhece\n",
    "    img_anf_c = ImageTk.PhotoImage(img_anf_c.resize(size=(204, 153)))\n",
    "\n",
    "    #3. cria label TK, atribuindo a propriedade image\n",
    "    lbl_img = tk.Label(root, image=img_anf_c)\n",
    "    lbl_img.pack()\n",
    "\n",
    "    root.mainloop()\n",
    "\n",
    "if __name__ == '__main__':\n",
    "    main()"
   ]
  }
 ],
 "metadata": {
  "kernelspec": {
   "display_name": "Python 3 (ipykernel)",
   "language": "python",
   "name": "python3"
  },
  "language_info": {
   "codemirror_mode": {
    "name": "ipython",
    "version": 3
   },
   "file_extension": ".py",
   "mimetype": "text/x-python",
   "name": "python",
   "nbconvert_exporter": "python",
   "pygments_lexer": "ipython3",
   "version": "3.10.9"
  }
 },
 "nbformat": 4,
 "nbformat_minor": 5
}
